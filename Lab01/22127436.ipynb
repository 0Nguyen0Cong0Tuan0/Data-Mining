{
 "cells": [
  {
   "cell_type": "markdown",
   "metadata": {},
   "source": [
    "<center>\n",
    "\n",
    "## **Lab 1**\n",
    "\n",
    "# **Data Preprocessing**\n",
    "\n",
    "</center>"
   ]
  },
  {
   "cell_type": "markdown",
   "metadata": {},
   "source": [
    "### **Student information**\n",
    "\n",
    "**Student's name**: Nguyễn Công Tuấn\n",
    "\n",
    "**Student's ID**: 22127436\n",
    "\n",
    "**Class** 22KHDL1\n",
    "\n",
    "### **Self-evaluation of the assignment requirements**\n",
    "\n",
    "<center>\n",
    "\n",
    "| **No.** | **Details** | **Evaluation** |\n",
    "| --- | --- | --- |\n",
    "| 1 | Data Cleaning | 100% | \n",
    "| 2 | Features Selection | 100% |\n",
    "| 3 | Data Normalization | 100% |\n",
    "| 4 | Data Discretization | 100% |\n",
    "| 5 | Detailed explanation of each step. Illustrative images, diagrams and equations are required | 100% |\n",
    "| 6 | Each processing step must be fully commented, and results should be printed for observation | 100% |\n",
    "| 7 | The report needs to be well-formatted | 100% |\n",
    "| 8 | Before submitting, re-run the notebook (Kernel → Restart & Run All) | 100% |\n",
    "| 9 | Reference (if any) | 100% |\n",
    "\n",
    "</center>"
   ]
  },
  {
   "cell_type": "code",
   "execution_count": 1,
   "metadata": {},
   "outputs": [
    {
     "name": "stdout",
     "output_type": "stream",
     "text": [
      "Requirement already satisfied: ucimlrepo in c:\\users\\nguye\\appdata\\local\\programs\\python\\python312\\lib\\site-packages (0.0.7)\n",
      "Requirement already satisfied: pandas>=1.0.0 in c:\\users\\nguye\\appdata\\local\\programs\\python\\python312\\lib\\site-packages (from ucimlrepo) (2.2.2)\n",
      "Requirement already satisfied: certifi>=2020.12.5 in c:\\users\\nguye\\appdata\\local\\programs\\python\\python312\\lib\\site-packages (from ucimlrepo) (2024.2.2)\n",
      "Requirement already satisfied: numpy>=1.26.0 in c:\\users\\nguye\\appdata\\local\\programs\\python\\python312\\lib\\site-packages (from pandas>=1.0.0->ucimlrepo) (1.26.4)\n",
      "Requirement already satisfied: python-dateutil>=2.8.2 in c:\\users\\nguye\\appdata\\local\\programs\\python\\python312\\lib\\site-packages (from pandas>=1.0.0->ucimlrepo) (2.8.2)\n",
      "Requirement already satisfied: pytz>=2020.1 in c:\\users\\nguye\\appdata\\local\\programs\\python\\python312\\lib\\site-packages (from pandas>=1.0.0->ucimlrepo) (2024.1)\n",
      "Requirement already satisfied: tzdata>=2022.7 in c:\\users\\nguye\\appdata\\local\\programs\\python\\python312\\lib\\site-packages (from pandas>=1.0.0->ucimlrepo) (2024.1)\n",
      "Requirement already satisfied: six>=1.5 in c:\\users\\nguye\\appdata\\local\\programs\\python\\python312\\lib\\site-packages (from python-dateutil>=2.8.2->pandas>=1.0.0->ucimlrepo) (1.16.0)\n",
      "Note: you may need to restart the kernel to use updated packages.\n"
     ]
    }
   ],
   "source": [
    "%pip install ucimlrepo"
   ]
  },
  {
   "cell_type": "code",
   "execution_count": 2,
   "metadata": {},
   "outputs": [],
   "source": [
    "from ucimlrepo import fetch_ucirepo \n",
    "import pandas as pd\n",
    "import numpy as np\n",
    "import matplotlib.pyplot as plt\n",
    "import seaborn as sns"
   ]
  },
  {
   "cell_type": "code",
   "execution_count": 3,
   "metadata": {},
   "outputs": [],
   "source": [
    "adult = fetch_ucirepo(id=2) "
   ]
  },
  {
   "cell_type": "code",
   "execution_count": 4,
   "metadata": {},
   "outputs": [
    {
     "data": {
      "text/html": [
       "<div>\n",
       "<style scoped>\n",
       "    .dataframe tbody tr th:only-of-type {\n",
       "        vertical-align: middle;\n",
       "    }\n",
       "\n",
       "    .dataframe tbody tr th {\n",
       "        vertical-align: top;\n",
       "    }\n",
       "\n",
       "    .dataframe thead th {\n",
       "        text-align: right;\n",
       "    }\n",
       "</style>\n",
       "<table border=\"1\" class=\"dataframe\">\n",
       "  <thead>\n",
       "    <tr style=\"text-align: right;\">\n",
       "      <th></th>\n",
       "      <th>name</th>\n",
       "      <th>role</th>\n",
       "      <th>type</th>\n",
       "      <th>demographic</th>\n",
       "      <th>description</th>\n",
       "      <th>units</th>\n",
       "      <th>missing_values</th>\n",
       "    </tr>\n",
       "  </thead>\n",
       "  <tbody>\n",
       "    <tr>\n",
       "      <th>0</th>\n",
       "      <td>age</td>\n",
       "      <td>Feature</td>\n",
       "      <td>Integer</td>\n",
       "      <td>Age</td>\n",
       "      <td>N/A</td>\n",
       "      <td>None</td>\n",
       "      <td>no</td>\n",
       "    </tr>\n",
       "    <tr>\n",
       "      <th>1</th>\n",
       "      <td>workclass</td>\n",
       "      <td>Feature</td>\n",
       "      <td>Categorical</td>\n",
       "      <td>Income</td>\n",
       "      <td>Private, Self-emp-not-inc, Self-emp-inc, Feder...</td>\n",
       "      <td>None</td>\n",
       "      <td>yes</td>\n",
       "    </tr>\n",
       "    <tr>\n",
       "      <th>2</th>\n",
       "      <td>fnlwgt</td>\n",
       "      <td>Feature</td>\n",
       "      <td>Integer</td>\n",
       "      <td>None</td>\n",
       "      <td>None</td>\n",
       "      <td>None</td>\n",
       "      <td>no</td>\n",
       "    </tr>\n",
       "    <tr>\n",
       "      <th>3</th>\n",
       "      <td>education</td>\n",
       "      <td>Feature</td>\n",
       "      <td>Categorical</td>\n",
       "      <td>Education Level</td>\n",
       "      <td>Bachelors, Some-college, 11th, HS-grad, Prof-...</td>\n",
       "      <td>None</td>\n",
       "      <td>no</td>\n",
       "    </tr>\n",
       "    <tr>\n",
       "      <th>4</th>\n",
       "      <td>education-num</td>\n",
       "      <td>Feature</td>\n",
       "      <td>Integer</td>\n",
       "      <td>Education Level</td>\n",
       "      <td>None</td>\n",
       "      <td>None</td>\n",
       "      <td>no</td>\n",
       "    </tr>\n",
       "    <tr>\n",
       "      <th>5</th>\n",
       "      <td>marital-status</td>\n",
       "      <td>Feature</td>\n",
       "      <td>Categorical</td>\n",
       "      <td>Other</td>\n",
       "      <td>Married-civ-spouse, Divorced, Never-married, S...</td>\n",
       "      <td>None</td>\n",
       "      <td>no</td>\n",
       "    </tr>\n",
       "    <tr>\n",
       "      <th>6</th>\n",
       "      <td>occupation</td>\n",
       "      <td>Feature</td>\n",
       "      <td>Categorical</td>\n",
       "      <td>Other</td>\n",
       "      <td>Tech-support, Craft-repair, Other-service, Sal...</td>\n",
       "      <td>None</td>\n",
       "      <td>yes</td>\n",
       "    </tr>\n",
       "    <tr>\n",
       "      <th>7</th>\n",
       "      <td>relationship</td>\n",
       "      <td>Feature</td>\n",
       "      <td>Categorical</td>\n",
       "      <td>Other</td>\n",
       "      <td>Wife, Own-child, Husband, Not-in-family, Other...</td>\n",
       "      <td>None</td>\n",
       "      <td>no</td>\n",
       "    </tr>\n",
       "    <tr>\n",
       "      <th>8</th>\n",
       "      <td>race</td>\n",
       "      <td>Feature</td>\n",
       "      <td>Categorical</td>\n",
       "      <td>Race</td>\n",
       "      <td>White, Asian-Pac-Islander, Amer-Indian-Eskimo,...</td>\n",
       "      <td>None</td>\n",
       "      <td>no</td>\n",
       "    </tr>\n",
       "    <tr>\n",
       "      <th>9</th>\n",
       "      <td>sex</td>\n",
       "      <td>Feature</td>\n",
       "      <td>Binary</td>\n",
       "      <td>Sex</td>\n",
       "      <td>Female, Male.</td>\n",
       "      <td>None</td>\n",
       "      <td>no</td>\n",
       "    </tr>\n",
       "    <tr>\n",
       "      <th>10</th>\n",
       "      <td>capital-gain</td>\n",
       "      <td>Feature</td>\n",
       "      <td>Integer</td>\n",
       "      <td>None</td>\n",
       "      <td>None</td>\n",
       "      <td>None</td>\n",
       "      <td>no</td>\n",
       "    </tr>\n",
       "    <tr>\n",
       "      <th>11</th>\n",
       "      <td>capital-loss</td>\n",
       "      <td>Feature</td>\n",
       "      <td>Integer</td>\n",
       "      <td>None</td>\n",
       "      <td>None</td>\n",
       "      <td>None</td>\n",
       "      <td>no</td>\n",
       "    </tr>\n",
       "    <tr>\n",
       "      <th>12</th>\n",
       "      <td>hours-per-week</td>\n",
       "      <td>Feature</td>\n",
       "      <td>Integer</td>\n",
       "      <td>None</td>\n",
       "      <td>None</td>\n",
       "      <td>None</td>\n",
       "      <td>no</td>\n",
       "    </tr>\n",
       "    <tr>\n",
       "      <th>13</th>\n",
       "      <td>native-country</td>\n",
       "      <td>Feature</td>\n",
       "      <td>Categorical</td>\n",
       "      <td>Other</td>\n",
       "      <td>United-States, Cambodia, England, Puerto-Rico,...</td>\n",
       "      <td>None</td>\n",
       "      <td>yes</td>\n",
       "    </tr>\n",
       "    <tr>\n",
       "      <th>14</th>\n",
       "      <td>income</td>\n",
       "      <td>Target</td>\n",
       "      <td>Binary</td>\n",
       "      <td>Income</td>\n",
       "      <td>&gt;50K, &lt;=50K.</td>\n",
       "      <td>None</td>\n",
       "      <td>no</td>\n",
       "    </tr>\n",
       "  </tbody>\n",
       "</table>\n",
       "</div>"
      ],
      "text/plain": [
       "              name     role         type      demographic  \\\n",
       "0              age  Feature      Integer              Age   \n",
       "1        workclass  Feature  Categorical           Income   \n",
       "2           fnlwgt  Feature      Integer             None   \n",
       "3        education  Feature  Categorical  Education Level   \n",
       "4    education-num  Feature      Integer  Education Level   \n",
       "5   marital-status  Feature  Categorical            Other   \n",
       "6       occupation  Feature  Categorical            Other   \n",
       "7     relationship  Feature  Categorical            Other   \n",
       "8             race  Feature  Categorical             Race   \n",
       "9              sex  Feature       Binary              Sex   \n",
       "10    capital-gain  Feature      Integer             None   \n",
       "11    capital-loss  Feature      Integer             None   \n",
       "12  hours-per-week  Feature      Integer             None   \n",
       "13  native-country  Feature  Categorical            Other   \n",
       "14          income   Target       Binary           Income   \n",
       "\n",
       "                                          description units missing_values  \n",
       "0                                                 N/A  None             no  \n",
       "1   Private, Self-emp-not-inc, Self-emp-inc, Feder...  None            yes  \n",
       "2                                                None  None             no  \n",
       "3    Bachelors, Some-college, 11th, HS-grad, Prof-...  None             no  \n",
       "4                                                None  None             no  \n",
       "5   Married-civ-spouse, Divorced, Never-married, S...  None             no  \n",
       "6   Tech-support, Craft-repair, Other-service, Sal...  None            yes  \n",
       "7   Wife, Own-child, Husband, Not-in-family, Other...  None             no  \n",
       "8   White, Asian-Pac-Islander, Amer-Indian-Eskimo,...  None             no  \n",
       "9                                       Female, Male.  None             no  \n",
       "10                                               None  None             no  \n",
       "11                                               None  None             no  \n",
       "12                                               None  None             no  \n",
       "13  United-States, Cambodia, England, Puerto-Rico,...  None            yes  \n",
       "14                                       >50K, <=50K.  None             no  "
      ]
     },
     "execution_count": 4,
     "metadata": {},
     "output_type": "execute_result"
    }
   ],
   "source": [
    "X = adult.data.features \n",
    "y = adult.data.targets \n",
    "  \n",
    "adult.variables"
   ]
  },
  {
   "cell_type": "code",
   "execution_count": 5,
   "metadata": {},
   "outputs": [
    {
     "name": "stdout",
     "output_type": "stream",
     "text": [
      "<class 'pandas.core.frame.DataFrame'>\n",
      "RangeIndex: 48842 entries, 0 to 48841\n",
      "Data columns (total 14 columns):\n",
      " #   Column          Non-Null Count  Dtype \n",
      "---  ------          --------------  ----- \n",
      " 0   age             48842 non-null  int64 \n",
      " 1   workclass       47879 non-null  object\n",
      " 2   fnlwgt          48842 non-null  int64 \n",
      " 3   education       48842 non-null  object\n",
      " 4   education-num   48842 non-null  int64 \n",
      " 5   marital-status  48842 non-null  object\n",
      " 6   occupation      47876 non-null  object\n",
      " 7   relationship    48842 non-null  object\n",
      " 8   race            48842 non-null  object\n",
      " 9   sex             48842 non-null  object\n",
      " 10  capital-gain    48842 non-null  int64 \n",
      " 11  capital-loss    48842 non-null  int64 \n",
      " 12  hours-per-week  48842 non-null  int64 \n",
      " 13  native-country  48568 non-null  object\n",
      "dtypes: int64(6), object(8)\n",
      "memory usage: 5.2+ MB\n"
     ]
    }
   ],
   "source": [
    "X.info()"
   ]
  },
  {
   "cell_type": "code",
   "execution_count": 6,
   "metadata": {},
   "outputs": [
    {
     "name": "stdout",
     "output_type": "stream",
     "text": [
      "<class 'pandas.core.frame.DataFrame'>\n",
      "RangeIndex: 48842 entries, 0 to 48841\n",
      "Data columns (total 1 columns):\n",
      " #   Column  Non-Null Count  Dtype \n",
      "---  ------  --------------  ----- \n",
      " 0   income  48842 non-null  object\n",
      "dtypes: object(1)\n",
      "memory usage: 381.7+ KB\n"
     ]
    }
   ],
   "source": [
    "y.info()"
   ]
  },
  {
   "cell_type": "markdown",
   "metadata": {},
   "source": [
    "The dataset contains ***48842*** records and ***14*** columns in ***feature dataset*** and ***48842*** records and ***1*** columns in ***target dataset***. \n",
    "\n",
    "Because both of them have a same records so I can merge them by column."
   ]
  },
  {
   "cell_type": "code",
   "execution_count": 7,
   "metadata": {},
   "outputs": [
    {
     "data": {
      "text/html": [
       "<div>\n",
       "<style scoped>\n",
       "    .dataframe tbody tr th:only-of-type {\n",
       "        vertical-align: middle;\n",
       "    }\n",
       "\n",
       "    .dataframe tbody tr th {\n",
       "        vertical-align: top;\n",
       "    }\n",
       "\n",
       "    .dataframe thead th {\n",
       "        text-align: right;\n",
       "    }\n",
       "</style>\n",
       "<table border=\"1\" class=\"dataframe\">\n",
       "  <thead>\n",
       "    <tr style=\"text-align: right;\">\n",
       "      <th></th>\n",
       "      <th>age</th>\n",
       "      <th>workclass</th>\n",
       "      <th>fnlwgt</th>\n",
       "      <th>education</th>\n",
       "      <th>education-num</th>\n",
       "      <th>marital-status</th>\n",
       "      <th>occupation</th>\n",
       "      <th>relationship</th>\n",
       "      <th>race</th>\n",
       "      <th>sex</th>\n",
       "      <th>capital-gain</th>\n",
       "      <th>capital-loss</th>\n",
       "      <th>hours-per-week</th>\n",
       "      <th>native-country</th>\n",
       "      <th>income</th>\n",
       "    </tr>\n",
       "  </thead>\n",
       "  <tbody>\n",
       "    <tr>\n",
       "      <th>0</th>\n",
       "      <td>39</td>\n",
       "      <td>State-gov</td>\n",
       "      <td>77516</td>\n",
       "      <td>Bachelors</td>\n",
       "      <td>13</td>\n",
       "      <td>Never-married</td>\n",
       "      <td>Adm-clerical</td>\n",
       "      <td>Not-in-family</td>\n",
       "      <td>White</td>\n",
       "      <td>Male</td>\n",
       "      <td>2174</td>\n",
       "      <td>0</td>\n",
       "      <td>40</td>\n",
       "      <td>United-States</td>\n",
       "      <td>&lt;=50K</td>\n",
       "    </tr>\n",
       "    <tr>\n",
       "      <th>1</th>\n",
       "      <td>50</td>\n",
       "      <td>Self-emp-not-inc</td>\n",
       "      <td>83311</td>\n",
       "      <td>Bachelors</td>\n",
       "      <td>13</td>\n",
       "      <td>Married-civ-spouse</td>\n",
       "      <td>Exec-managerial</td>\n",
       "      <td>Husband</td>\n",
       "      <td>White</td>\n",
       "      <td>Male</td>\n",
       "      <td>0</td>\n",
       "      <td>0</td>\n",
       "      <td>13</td>\n",
       "      <td>United-States</td>\n",
       "      <td>&lt;=50K</td>\n",
       "    </tr>\n",
       "    <tr>\n",
       "      <th>2</th>\n",
       "      <td>38</td>\n",
       "      <td>Private</td>\n",
       "      <td>215646</td>\n",
       "      <td>HS-grad</td>\n",
       "      <td>9</td>\n",
       "      <td>Divorced</td>\n",
       "      <td>Handlers-cleaners</td>\n",
       "      <td>Not-in-family</td>\n",
       "      <td>White</td>\n",
       "      <td>Male</td>\n",
       "      <td>0</td>\n",
       "      <td>0</td>\n",
       "      <td>40</td>\n",
       "      <td>United-States</td>\n",
       "      <td>&lt;=50K</td>\n",
       "    </tr>\n",
       "    <tr>\n",
       "      <th>3</th>\n",
       "      <td>53</td>\n",
       "      <td>Private</td>\n",
       "      <td>234721</td>\n",
       "      <td>11th</td>\n",
       "      <td>7</td>\n",
       "      <td>Married-civ-spouse</td>\n",
       "      <td>Handlers-cleaners</td>\n",
       "      <td>Husband</td>\n",
       "      <td>Black</td>\n",
       "      <td>Male</td>\n",
       "      <td>0</td>\n",
       "      <td>0</td>\n",
       "      <td>40</td>\n",
       "      <td>United-States</td>\n",
       "      <td>&lt;=50K</td>\n",
       "    </tr>\n",
       "    <tr>\n",
       "      <th>4</th>\n",
       "      <td>28</td>\n",
       "      <td>Private</td>\n",
       "      <td>338409</td>\n",
       "      <td>Bachelors</td>\n",
       "      <td>13</td>\n",
       "      <td>Married-civ-spouse</td>\n",
       "      <td>Prof-specialty</td>\n",
       "      <td>Wife</td>\n",
       "      <td>Black</td>\n",
       "      <td>Female</td>\n",
       "      <td>0</td>\n",
       "      <td>0</td>\n",
       "      <td>40</td>\n",
       "      <td>Cuba</td>\n",
       "      <td>&lt;=50K</td>\n",
       "    </tr>\n",
       "  </tbody>\n",
       "</table>\n",
       "</div>"
      ],
      "text/plain": [
       "   age         workclass  fnlwgt  education  education-num  \\\n",
       "0   39         State-gov   77516  Bachelors             13   \n",
       "1   50  Self-emp-not-inc   83311  Bachelors             13   \n",
       "2   38           Private  215646    HS-grad              9   \n",
       "3   53           Private  234721       11th              7   \n",
       "4   28           Private  338409  Bachelors             13   \n",
       "\n",
       "       marital-status         occupation   relationship   race     sex  \\\n",
       "0       Never-married       Adm-clerical  Not-in-family  White    Male   \n",
       "1  Married-civ-spouse    Exec-managerial        Husband  White    Male   \n",
       "2            Divorced  Handlers-cleaners  Not-in-family  White    Male   \n",
       "3  Married-civ-spouse  Handlers-cleaners        Husband  Black    Male   \n",
       "4  Married-civ-spouse     Prof-specialty           Wife  Black  Female   \n",
       "\n",
       "   capital-gain  capital-loss  hours-per-week native-country income  \n",
       "0          2174             0              40  United-States  <=50K  \n",
       "1             0             0              13  United-States  <=50K  \n",
       "2             0             0              40  United-States  <=50K  \n",
       "3             0             0              40  United-States  <=50K  \n",
       "4             0             0              40           Cuba  <=50K  "
      ]
     },
     "execution_count": 7,
     "metadata": {},
     "output_type": "execute_result"
    }
   ],
   "source": [
    "X = pd.concat([X, y], axis=1)\n",
    "\n",
    "X.head()"
   ]
  },
  {
   "cell_type": "markdown",
   "metadata": {},
   "source": [
    "# **Data Cleaning**\n",
    "\n",
    "The data is dirty in the real world with lots of potential incorrect data from **human mistakes**, **computing errors** or **transmission problems**. And that’s why data needs preprocessing to ensure the accuracy and reliability of later analyses.\n",
    "\n",
    "To perform data cleaning tasks, let’s answer the questions and address the problems below:\n"
   ]
  },
  {
   "cell_type": "markdown",
   "metadata": {},
   "source": [
    "## **Assessment of Missing Data**\n",
    "\n",
    "### Question: *Is there any missing data present?* "
   ]
  },
  {
   "cell_type": "code",
   "execution_count": 8,
   "metadata": {},
   "outputs": [
    {
     "name": "stdout",
     "output_type": "stream",
     "text": [
      "Missing data per column:\n",
      " age                 0\n",
      "workclass         963\n",
      "fnlwgt              0\n",
      "education           0\n",
      "education-num       0\n",
      "marital-status      0\n",
      "occupation        966\n",
      "relationship        0\n",
      "race                0\n",
      "sex                 0\n",
      "capital-gain        0\n",
      "capital-loss        0\n",
      "hours-per-week      0\n",
      "native-country    274\n",
      "income              0\n",
      "dtype: int64\n"
     ]
    }
   ],
   "source": [
    "missing_data = X.isna().sum()\n",
    "print(\"Missing data per column:\\n\", missing_data)"
   ]
  },
  {
   "cell_type": "markdown",
   "metadata": {},
   "source": [
    "**Conclusion**: The Adult Census Income dataset contains the missing data in the ***workclass***, ***occupation*** and ***native-country*** columns."
   ]
  },
  {
   "cell_type": "code",
   "execution_count": 9,
   "metadata": {},
   "outputs": [
    {
     "name": "stdout",
     "output_type": "stream",
     "text": [
      "Unique values in workclass:\n",
      "['State-gov' 'Self-emp-not-inc' 'Private' 'Federal-gov' 'Local-gov' '?'\n",
      " 'Self-emp-inc' 'Without-pay' 'Never-worked' nan]\n",
      "--------------------------------------------------\n",
      "Unique values in occupation:\n",
      "['Adm-clerical' 'Exec-managerial' 'Handlers-cleaners' 'Prof-specialty'\n",
      " 'Other-service' 'Sales' 'Craft-repair' 'Transport-moving'\n",
      " 'Farming-fishing' 'Machine-op-inspct' 'Tech-support' '?'\n",
      " 'Protective-serv' 'Armed-Forces' 'Priv-house-serv' nan]\n",
      "--------------------------------------------------\n",
      "Unique values in native-country:\n",
      "['United-States' 'Cuba' 'Jamaica' 'India' '?' 'Mexico' 'South'\n",
      " 'Puerto-Rico' 'Honduras' 'England' 'Canada' 'Germany' 'Iran'\n",
      " 'Philippines' 'Italy' 'Poland' 'Columbia' 'Cambodia' 'Thailand' 'Ecuador'\n",
      " 'Laos' 'Taiwan' 'Haiti' 'Portugal' 'Dominican-Republic' 'El-Salvador'\n",
      " 'France' 'Guatemala' 'China' 'Japan' 'Yugoslavia' 'Peru'\n",
      " 'Outlying-US(Guam-USVI-etc)' 'Scotland' 'Trinadad&Tobago' 'Greece'\n",
      " 'Nicaragua' 'Vietnam' 'Hong' 'Ireland' 'Hungary' 'Holand-Netherlands' nan]\n",
      "--------------------------------------------------\n"
     ]
    }
   ],
   "source": [
    "for col in [\"workclass\", \"occupation\", \"native-country\"]:\n",
    "    print(f\"Unique values in {col}:\")\n",
    "    print(X[col].unique())\n",
    "    print(\"-\" * 50)"
   ]
  },
  {
   "cell_type": "markdown",
   "metadata": {},
   "source": [
    "When printing out all the unique values of each column, I notice the ***?*** value. Therefore, I consider the ***?*** value as the ***NaN*** value."
   ]
  },
  {
   "cell_type": "code",
   "execution_count": 10,
   "metadata": {},
   "outputs": [
    {
     "name": "stdout",
     "output_type": "stream",
     "text": [
      "Missing data per column:\n",
      " age                  0\n",
      "workclass         2799\n",
      "fnlwgt               0\n",
      "education            0\n",
      "education-num        0\n",
      "marital-status       0\n",
      "occupation        2809\n",
      "relationship         0\n",
      "race                 0\n",
      "sex                  0\n",
      "capital-gain         0\n",
      "capital-loss         0\n",
      "hours-per-week       0\n",
      "native-country     857\n",
      "income               0\n",
      "dtype: int64\n"
     ]
    }
   ],
   "source": [
    "X = X.replace('?', np.nan) # replace '?' with NaN\n",
    "\n",
    "missing_data = X.isna().sum()\n",
    "print(\"Missing data per column:\\n\", missing_data)"
   ]
  },
  {
   "cell_type": "markdown",
   "metadata": {},
   "source": [
    "After changing the ***?*** value to the ***NaN*** value, the number of missing data per column increases a lot. "
   ]
  },
  {
   "cell_type": "markdown",
   "metadata": {},
   "source": [
    "### Question: *If so, what actions should be taken and why?*\n",
    "\n",
    "- *Should the affected records be excluded from the dataset?*"
   ]
  },
  {
   "cell_type": "code",
   "execution_count": 11,
   "metadata": {},
   "outputs": [
    {
     "name": "stdout",
     "output_type": "stream",
     "text": [
      "Number of rows before dropping: 48842\n",
      "Number of rows deleted: 3620\n",
      "Number of rows after dropping: 45222\n",
      "Percentage of rows deleted: 7.411653904426519\n"
     ]
    }
   ],
   "source": [
    "before_drop = X.shape[0]  # Number of rows before dropping\n",
    "after_drop = X.dropna().shape[0]  # Number of rows after dropping\n",
    "\n",
    "rows_deleted = before_drop - after_drop\n",
    "\n",
    "print(\"Number of rows before dropping:\", before_drop)\n",
    "print(\"Number of rows deleted:\", rows_deleted)\n",
    "print(\"Number of rows after dropping:\", after_drop)\n",
    "print(\"Percentage of rows deleted:\", (rows_deleted / before_drop) * 100)"
   ]
  },
  {
   "cell_type": "markdown",
   "metadata": {},
   "source": [
    "If trying to remove the missing data records, it means I will remove the total ***3620*** records (approximately 7.41% of the dataset). Therefore, I can lost some valuable data, especially since the dataset is moderate in size\n",
    "\n",
    "**Conclusion**: Not exclude or drop the affected records from the dataset"
   ]
  },
  {
   "cell_type": "markdown",
   "metadata": {},
   "source": [
    "- *Should the missing values be imputed? If so, which imputation methods will be applied (e.g., global constant, mean, etc.)?*"
   ]
  },
  {
   "cell_type": "markdown",
   "metadata": {},
   "source": [
    "In this case, these columns (***workclass***, ***occupation*** and ***native-country***) are categories so\n",
    "- Can not use ***mean*** and ***median*** because they are used for numerical data.\n",
    "- If replacing missing values with the ***mode*** (most frequent value), it might introduce bias and misrepresent the actual distribution of data.\n",
    "- If using the global constant like ***Unknown***, it means I acknowledge that I do not have that information rather than making a possibly incorrect assumption.\n",
    "\n",
    "**Best choice**: Replacing missing values with ***Unknown*** to ensure that I retain as much data as possible while indicating uncertainty and that allow machine learning models to treat it as a separate category rather than making incorrect assumptions."
   ]
  },
  {
   "cell_type": "code",
   "execution_count": 12,
   "metadata": {},
   "outputs": [],
   "source": [
    "X = X.fillna({\"workclass\": \"Unknown\", \"occupation\": \"Unknown\", \"native-country\": \"Unknown\"})"
   ]
  },
  {
   "cell_type": "markdown",
   "metadata": {},
   "source": [
    "Checking the result of X after filling ***?*** value with ***NaN*** value."
   ]
  },
  {
   "cell_type": "code",
   "execution_count": 13,
   "metadata": {},
   "outputs": [
    {
     "name": "stdout",
     "output_type": "stream",
     "text": [
      "Unique values in workclass:\n",
      "['State-gov' 'Self-emp-not-inc' 'Private' 'Federal-gov' 'Local-gov'\n",
      " 'Unknown' 'Self-emp-inc' 'Without-pay' 'Never-worked']\n",
      "--------------------------------------------------\n",
      "Unique values in occupation:\n",
      "['Adm-clerical' 'Exec-managerial' 'Handlers-cleaners' 'Prof-specialty'\n",
      " 'Other-service' 'Sales' 'Craft-repair' 'Transport-moving'\n",
      " 'Farming-fishing' 'Machine-op-inspct' 'Tech-support' 'Unknown'\n",
      " 'Protective-serv' 'Armed-Forces' 'Priv-house-serv']\n",
      "--------------------------------------------------\n",
      "Unique values in native-country:\n",
      "['United-States' 'Cuba' 'Jamaica' 'India' 'Unknown' 'Mexico' 'South'\n",
      " 'Puerto-Rico' 'Honduras' 'England' 'Canada' 'Germany' 'Iran'\n",
      " 'Philippines' 'Italy' 'Poland' 'Columbia' 'Cambodia' 'Thailand' 'Ecuador'\n",
      " 'Laos' 'Taiwan' 'Haiti' 'Portugal' 'Dominican-Republic' 'El-Salvador'\n",
      " 'France' 'Guatemala' 'China' 'Japan' 'Yugoslavia' 'Peru'\n",
      " 'Outlying-US(Guam-USVI-etc)' 'Scotland' 'Trinadad&Tobago' 'Greece'\n",
      " 'Nicaragua' 'Vietnam' 'Hong' 'Ireland' 'Hungary' 'Holand-Netherlands']\n",
      "--------------------------------------------------\n"
     ]
    }
   ],
   "source": [
    "for col in [\"workclass\", \"occupation\", \"native-country\"]:\n",
    "    print(f\"Unique values in {col}:\")\n",
    "    print(X[col].unique())\n",
    "    print(\"-\" * 50)"
   ]
  },
  {
   "cell_type": "markdown",
   "metadata": {},
   "source": [
    "Now, I can see all missing value (***NaN*** value) have already replaced with ***Unknown***."
   ]
  },
  {
   "cell_type": "markdown",
   "metadata": {},
   "source": [
    "## **Identification of Duplicate Records**"
   ]
  },
  {
   "cell_type": "markdown",
   "metadata": {},
   "source": [
    "### Question: *Are there any duplicate records present in dataset? If duplicates, exist, keep only one of them*"
   ]
  },
  {
   "cell_type": "code",
   "execution_count": 14,
   "metadata": {},
   "outputs": [
    {
     "name": "stdout",
     "output_type": "stream",
     "text": [
      "Number of duplicated rows: 29\n"
     ]
    }
   ],
   "source": [
    "print(\"Number of duplicated rows:\", X.duplicated().sum()) "
   ]
  },
  {
   "cell_type": "code",
   "execution_count": 15,
   "metadata": {},
   "outputs": [
    {
     "name": "stdout",
     "output_type": "stream",
     "text": [
      "Number of records before dropping the duplicates: 48842\n",
      "Number of records after dropping the duplicates: 48813\n"
     ]
    }
   ],
   "source": [
    "print(\"Number of records before dropping the duplicates:\", X.shape[0])\n",
    "\n",
    "X = X.drop_duplicates(keep=\"first\")\n",
    "\n",
    "print(\"Number of records after dropping the duplicates:\", X.shape[0])"
   ]
  },
  {
   "cell_type": "markdown",
   "metadata": {},
   "source": [
    "## **Additional Data Cleaning Methods**"
   ]
  },
  {
   "cell_type": "markdown",
   "metadata": {},
   "source": [
    "### Question: *Are there any further steps, methods that can be implemented to make the data to be more cleaner?*"
   ]
  },
  {
   "cell_type": "code",
   "execution_count": 16,
   "metadata": {},
   "outputs": [
    {
     "name": "stdout",
     "output_type": "stream",
     "text": [
      "Unique values in age:\n",
      "[39 50 38 53 28 37 49 52 31 42 30 23 32 40 34 25 43 54 35 59 56 19 20 45\n",
      " 22 48 21 24 57 44 41 29 18 47 46 36 79 27 67 33 76 17 55 61 70 64 71 68\n",
      " 66 51 58 26 60 90 75 65 77 62 63 80 72 74 69 73 81 78 88 82 83 84 85 86\n",
      " 87 89]\n",
      "--------------------------------------------------\n",
      "Unique values in workclass:\n",
      "['State-gov' 'Self-emp-not-inc' 'Private' 'Federal-gov' 'Local-gov'\n",
      " 'Unknown' 'Self-emp-inc' 'Without-pay' 'Never-worked']\n",
      "--------------------------------------------------\n",
      "Unique values in fnlwgt:\n",
      "[ 77516  83311 215646 ... 173449  89686 350977]\n",
      "--------------------------------------------------\n",
      "Unique values in education:\n",
      "['Bachelors' 'HS-grad' '11th' 'Masters' '9th' 'Some-college' 'Assoc-acdm'\n",
      " 'Assoc-voc' '7th-8th' 'Doctorate' 'Prof-school' '5th-6th' '10th'\n",
      " '1st-4th' 'Preschool' '12th']\n",
      "--------------------------------------------------\n",
      "Unique values in education-num:\n",
      "[13  9  7 14  5 10 12 11  4 16 15  3  6  2  1  8]\n",
      "--------------------------------------------------\n",
      "Unique values in marital-status:\n",
      "['Never-married' 'Married-civ-spouse' 'Divorced' 'Married-spouse-absent'\n",
      " 'Separated' 'Married-AF-spouse' 'Widowed']\n",
      "--------------------------------------------------\n",
      "Unique values in occupation:\n",
      "['Adm-clerical' 'Exec-managerial' 'Handlers-cleaners' 'Prof-specialty'\n",
      " 'Other-service' 'Sales' 'Craft-repair' 'Transport-moving'\n",
      " 'Farming-fishing' 'Machine-op-inspct' 'Tech-support' 'Unknown'\n",
      " 'Protective-serv' 'Armed-Forces' 'Priv-house-serv']\n",
      "--------------------------------------------------\n",
      "Unique values in relationship:\n",
      "['Not-in-family' 'Husband' 'Wife' 'Own-child' 'Unmarried' 'Other-relative']\n",
      "--------------------------------------------------\n",
      "Unique values in race:\n",
      "['White' 'Black' 'Asian-Pac-Islander' 'Amer-Indian-Eskimo' 'Other']\n",
      "--------------------------------------------------\n",
      "Unique values in sex:\n",
      "['Male' 'Female']\n",
      "--------------------------------------------------\n",
      "Unique values in capital-gain:\n",
      "[ 2174     0 14084  5178  5013  2407 14344 15024  7688 34095  4064  4386\n",
      "  7298  1409  3674  1055  3464  2050  2176   594 20051  6849  4101  1111\n",
      "  8614  3411  2597 25236  4650  9386  2463  3103 10605  2964  3325  2580\n",
      "  3471  4865 99999  6514  1471  2329  2105  2885 25124 10520  2202  2961\n",
      " 27828  6767  2228  1506 13550  2635  5556  4787  3781  3137  3818  3942\n",
      "   914   401  2829  2977  4934  2062  2354  5455 15020  1424  3273 22040\n",
      "  4416  3908 10566   991  4931  1086  7430  6497   114  7896  2346  3418\n",
      "  3432  2907  1151  2414  2290 15831 41310  4508  2538  3456  6418  1848\n",
      "  3887  5721  9562  1455  2036  1831 11678  2936  2993  7443  6360  1797\n",
      "  1173  4687  6723  2009  6097  2653  1639 18481  7978  2387  5060  1264\n",
      "  7262  1731  6612]\n",
      "--------------------------------------------------\n",
      "Unique values in capital-loss:\n",
      "[   0 2042 1408 1902 1573 1887 1719 1762 1564 2179 1816 1980 1977 1876\n",
      " 1340 2206 1741 1485 2339 2415 1380 1721 2051 2377 1669 2352 1672  653\n",
      " 2392 1504 2001 1590 1651 1628 1848 1740 2002 1579 2258 1602  419 2547\n",
      " 2174 2205 1726 2444 1138 2238  625  213 1539  880 1668 1092 1594 3004\n",
      " 2231 1844  810 2824 2559 2057 1974  974 2149 1825 1735 1258 2129 2603\n",
      " 2282  323 4356 2246 1617 1648 2489 3770 1755 3683 2267 2080 2457  155\n",
      " 3900 2201 1944 2467 2163 2754 2472 1411 1429 3175 1510 1870 1911 2465\n",
      " 1421]\n",
      "--------------------------------------------------\n",
      "Unique values in hours-per-week:\n",
      "[40 13 16 45 50 80 30 35 60 20 52 44 15 25 38 43 55 48 58 32 70  2 22 56\n",
      " 41 28 36 24 46 42 12 65  1 10 34 75 98 33 54  8  6 64 19 18 72  5  9 47\n",
      " 37 21 26 14  4 59  7 99 53 39 62 57 78 90 66 11 49 84  3 17 68 27 85 31\n",
      " 51 77 63 23 87 88 73 89 97 94 29 96 67 82 86 91 81 76 92 61 74 95 79 69]\n",
      "--------------------------------------------------\n",
      "Unique values in native-country:\n",
      "['United-States' 'Cuba' 'Jamaica' 'India' 'Unknown' 'Mexico' 'South'\n",
      " 'Puerto-Rico' 'Honduras' 'England' 'Canada' 'Germany' 'Iran'\n",
      " 'Philippines' 'Italy' 'Poland' 'Columbia' 'Cambodia' 'Thailand' 'Ecuador'\n",
      " 'Laos' 'Taiwan' 'Haiti' 'Portugal' 'Dominican-Republic' 'El-Salvador'\n",
      " 'France' 'Guatemala' 'China' 'Japan' 'Yugoslavia' 'Peru'\n",
      " 'Outlying-US(Guam-USVI-etc)' 'Scotland' 'Trinadad&Tobago' 'Greece'\n",
      " 'Nicaragua' 'Vietnam' 'Hong' 'Ireland' 'Hungary' 'Holand-Netherlands']\n",
      "--------------------------------------------------\n",
      "Unique values in income:\n",
      "['<=50K' '>50K' '<=50K.' '>50K.']\n",
      "--------------------------------------------------\n"
     ]
    }
   ],
   "source": [
    "for col in X.columns:\n",
    "    print(f\"Unique values in {col}:\")\n",
    "    print(X[col].unique())\n",
    "    print(\"-\" * 50)"
   ]
  },
  {
   "cell_type": "markdown",
   "metadata": {},
   "source": [
    "***Converting categorical columns to lowercase***"
   ]
  },
  {
   "cell_type": "code",
   "execution_count": 17,
   "metadata": {},
   "outputs": [],
   "source": [
    "X = X.apply(lambda col: col.str.lower() if col.dtype == 'object' else col)"
   ]
  },
  {
   "cell_type": "markdown",
   "metadata": {},
   "source": [
    "***Reformat the target (income)***"
   ]
  },
  {
   "cell_type": "code",
   "execution_count": 18,
   "metadata": {},
   "outputs": [
    {
     "data": {
      "text/plain": [
       "array(['<=50k', '>50k', '<=50k.', '>50k.'], dtype=object)"
      ]
     },
     "execution_count": 18,
     "metadata": {},
     "output_type": "execute_result"
    }
   ],
   "source": [
    "X['income'].unique()"
   ]
  },
  {
   "cell_type": "code",
   "execution_count": 19,
   "metadata": {},
   "outputs": [],
   "source": [
    "X['income'] = X['income'].replace({'>50k.': '>50k', '<=50k.': '<=50k'})"
   ]
  },
  {
   "cell_type": "markdown",
   "metadata": {},
   "source": [
    "***Converting income columns to binary (0 and 1)***"
   ]
  },
  {
   "cell_type": "code",
   "execution_count": 20,
   "metadata": {},
   "outputs": [],
   "source": [
    "X['income'] = X['income'].map({'<=50k': 0, '>50k': 1})"
   ]
  },
  {
   "cell_type": "markdown",
   "metadata": {},
   "source": [
    "# **Features Selection**\n",
    "\n",
    "Complex data analysis can **take a significant amount of time to execute on the complete dataset**. Higher dimensions make data more sparse and create exponentially more subspace combinations, but these combinations often lack meaning. Therefore, features selection is **an important step in data preprocessing** that simplifies the dataset while retaining its most essential characteristics, allowing for more efficient modeling and visualization.\n",
    "\n",
    "To perform features selection, let’s address the following questions:"
   ]
  },
  {
   "cell_type": "markdown",
   "metadata": {},
   "source": [
    "## **Feature Selection**\n",
    "\n",
    "### Question: *Which features (attributes) are the most informative in the data? Why? Which features should be kept in the dataset?* "
   ]
  },
  {
   "cell_type": "code",
   "execution_count": 21,
   "metadata": {},
   "outputs": [
    {
     "name": "stdout",
     "output_type": "stream",
     "text": [
      "Index(['age', 'workclass', 'fnlwgt', 'education', 'education-num',\n",
      "       'marital-status', 'occupation', 'relationship', 'race', 'sex',\n",
      "       'capital-gain', 'capital-loss', 'hours-per-week', 'native-country',\n",
      "       'income'],\n",
      "      dtype='object')\n"
     ]
    }
   ],
   "source": [
    "print(X.columns)"
   ]
  },
  {
   "cell_type": "markdown",
   "metadata": {},
   "source": [
    "### **My first thought**\n",
    "\n",
    "Based on **data-driven insights** combined with an **logical understanding of how features relate to income**, I will have a little insights about which  are the most informative features (attributes) in the dataset. \n",
    "\n",
    "Here is my evaluation of each feature based on its relevance to income prediction:\n",
    "\n",
    "<center>\n",
    "\n",
    "| Feature | Importance | Reason | Status |\n",
    "| ---- | ---- | ---- | ---- |\n",
    "|  *education-num* | Highly informative | Higher education levels often lead to better job opportunities and higher earnings | Keep |\n",
    "| *occupation* | Highly informative | Certain occupations, especially specialized or high-level positions, typically offer higher salaries  | Keep |\n",
    "| *hours-per-week* | Highly informative | More hours worked generally result in higher earnings | Keep | \n",
    "| *capital-gain* | Highly informative | Investment returns contribute directly to total income, increasing overall wealth | Keep |\n",
    "| *capital-loss* | Highly informative | Represents financial losses that directly impact net income | Keep |\n",
    "| *age* | Moderately information | Older individuals tend to have more work experience and industry knowledge, which can lead to higher earnings | Keep | \n",
    "| *marital-status* | Weak predictor | Marital status does not directly influence an individual’s skills or job performance | Drop | \n",
    "| *sex* | Weak predictor | Income is primarily determined by skills, experience, and effort, making sex a less significant factor | Drop |\n",
    "| *race* | Weak predictor | While race can influence social factors, it does not inherently determine an individual's earning potential | Drop |\n",
    "| *native-country* | Weak predictor | While country of origin may impact opportunities, education, skills, and experience are stronger income predictors | Drop |\n",
    "| *relationship* | Redundant | This feature is closely related to marital status, making it unnecessary | Drop |\n",
    "| *education* | Redundant | Education level is already represented numerically by education-num, making this feature redundant\t | Drop |\n",
    "| *fnlwgt* | Not useful | This is a population weighting factor used for survey analysis, not a meaningful predictor of individual income | Drop |\n",
    "\n",
    "</center>"
   ]
  },
  {
   "cell_type": "markdown",
   "metadata": {},
   "source": [
    "### **Verify by Information Theory**\n",
    "\n",
    "To verify the correctness of my assumptions about feature importance, I need a reliable method to quantify how much each feature contributes to predicting income.\n",
    "\n",
    "**Information theory** provides a statistical method for this: **Mutual Information (MI)**. This method measures the dependency between a feature and the target variable or how much knowing a feature reduces uncertainty about predicting the target variable (income).\n",
    "\n",
    "Since all features in the dataset are discrete $\\rightarrow$ use the MI formula for discrete variables:\n",
    "\n",
    "$$I(X, Y) = \\sum_{y \\in \\mathcal{Y}}\\sum_{x \\in \\mathcal{X}}P_{X, Y}(x, y) \\log \\left( \\frac{P_{X, Y}(x, y)}{P_{X}(x) P_{Y}(y)} \\right)$$\n",
    "\n",
    "\n",
    "and it captures how much information is shared between a random variable (feature) $X$ and the random variable (target) $Y$."
   ]
  },
  {
   "cell_type": "markdown",
   "metadata": {},
   "source": [
    "Even though the numerical columns in dataset are discrete, they have a large number of unique values $\\Rightarrow$ Inflates the mutual information (MI) score and make these features seem more important than they actually are."
   ]
  },
  {
   "cell_type": "code",
   "execution_count": 22,
   "metadata": {},
   "outputs": [
    {
     "name": "stdout",
     "output_type": "stream",
     "text": [
      "age has 74 unique values\n",
      "Unique values in age:\n",
      "[17 18 19 20 21 22 23 24 25 26 27 28 29 30 31 32 33 34 35 36 37 38 39 40\n",
      " 41 42 43 44 45 46 47 48 49 50 51 52 53 54 55 56 57 58 59 60 61 62 63 64\n",
      " 65 66 67 68 69 70 71 72 73 74 75 76 77 78 79 80 81 82 83 84 85 86 87 88\n",
      " 89 90]\n",
      "--------------------------------------------------\n",
      "fnlwgt has 28523 unique values\n",
      "Unique values in fnlwgt:\n",
      "[  12285   13492   13769 ... 1455435 1484705 1490400]\n",
      "--------------------------------------------------\n",
      "education-num has 16 unique values\n",
      "Unique values in education-num:\n",
      "[ 1  2  3  4  5  6  7  8  9 10 11 12 13 14 15 16]\n",
      "--------------------------------------------------\n",
      "capital-gain has 123 unique values\n",
      "Unique values in capital-gain:\n",
      "[    0   114   401   594   914   991  1055  1086  1111  1151  1173  1264\n",
      "  1409  1424  1455  1471  1506  1639  1731  1797  1831  1848  2009  2036\n",
      "  2050  2062  2105  2174  2176  2202  2228  2290  2329  2346  2354  2387\n",
      "  2407  2414  2463  2538  2580  2597  2635  2653  2829  2885  2907  2936\n",
      "  2961  2964  2977  2993  3103  3137  3273  3325  3411  3418  3432  3456\n",
      "  3464  3471  3674  3781  3818  3887  3908  3942  4064  4101  4386  4416\n",
      "  4508  4650  4687  4787  4865  4931  4934  5013  5060  5178  5455  5556\n",
      "  5721  6097  6360  6418  6497  6514  6612  6723  6767  6849  7262  7298\n",
      "  7430  7443  7688  7896  7978  8614  9386  9562 10520 10566 10605 11678\n",
      " 13550 14084 14344 15020 15024 15831 18481 20051 22040 25124 25236 27828\n",
      " 34095 41310 99999]\n",
      "--------------------------------------------------\n",
      "capital-loss has 99 unique values\n",
      "Unique values in capital-loss:\n",
      "[   0  155  213  323  419  625  653  810  880  974 1092 1138 1258 1340\n",
      " 1380 1408 1411 1421 1429 1485 1504 1510 1539 1564 1573 1579 1590 1594\n",
      " 1602 1617 1628 1648 1651 1668 1669 1672 1719 1721 1726 1735 1740 1741\n",
      " 1755 1762 1816 1825 1844 1848 1870 1876 1887 1902 1911 1944 1974 1977\n",
      " 1980 2001 2002 2042 2051 2057 2080 2129 2149 2163 2174 2179 2201 2205\n",
      " 2206 2231 2238 2246 2258 2267 2282 2339 2352 2377 2392 2415 2444 2457\n",
      " 2465 2467 2472 2489 2547 2559 2603 2754 2824 3004 3175 3683 3770 3900\n",
      " 4356]\n",
      "--------------------------------------------------\n",
      "hours-per-week has 96 unique values\n",
      "Unique values in hours-per-week:\n",
      "[ 1  2  3  4  5  6  7  8  9 10 11 12 13 14 15 16 17 18 19 20 21 22 23 24\n",
      " 25 26 27 28 29 30 31 32 33 34 35 36 37 38 39 40 41 42 43 44 45 46 47 48\n",
      " 49 50 51 52 53 54 55 56 57 58 59 60 61 62 63 64 65 66 67 68 69 70 72 73\n",
      " 74 75 76 77 78 79 80 81 82 84 85 86 87 88 89 90 91 92 94 95 96 97 98 99]\n",
      "--------------------------------------------------\n"
     ]
    }
   ],
   "source": [
    "numerical_cols = X.select_dtypes(include=['int64', 'float64']).columns\n",
    "numerical_cols = numerical_cols.drop(\"income\", errors='ignore')\n",
    "\n",
    "for col in numerical_cols:\n",
    "    print(f\"{col} has {X[col].nunique()} unique values\")\n",
    "    print(f\"Unique values in {col}:\")\n",
    "    print(np.sort(X[col].unique()))\n",
    "    print(\"-\" * 50)"
   ]
  },
  {
   "cell_type": "markdown",
   "metadata": {},
   "source": [
    "Besides that when a feature is highly skewed, MI can become misleading or ineffective because skewed data causes poor binning. "
   ]
  },
  {
   "cell_type": "code",
   "execution_count": 23,
   "metadata": {},
   "outputs": [
    {
     "name": "stdout",
     "output_type": "stream",
     "text": [
      "Highly Skewed Features (|skewness| > 1):\n",
      "capital-gain    11.891093\n",
      "capital-loss     4.568263\n",
      "fnlwgt           1.439534\n",
      "dtype: float64\n"
     ]
    }
   ],
   "source": [
    "numerical_cols = X.select_dtypes(include=['int64', 'float64']).columns.drop('income')\n",
    "\n",
    "# Compute skewness for each numerical column\n",
    "skewness_values = X[numerical_cols].skew()\n",
    "\n",
    "# Define threshold for high skewness\n",
    "highly_skewed_features = skewness_values[abs(skewness_values) > 1] \n",
    "\n",
    "print(\"Highly Skewed Features (|skewness| > 1):\")\n",
    "print(highly_skewed_features.sort_values(ascending=False))"
   ]
  },
  {
   "cell_type": "markdown",
   "metadata": {},
   "source": [
    "From the result of computing skewness for each numerical columns, these *capital-gain*, *capital-loss* and *fnlwgt* features are highly skewed features.\n",
    "\n",
    "To be specific, there are 2 binning methods and if a feature is skewed, 2 binning methods will fail:\n",
    "- **Equal-width binning** - Most values go into a few bins and make MI almost 0\n",
    "- **Equal-frequency binning** - Too many bins may have too few samples and lead to unstable MI estimates\n",
    "\n",
    "**Conclusion**: I have to handle skewed data before MI computation."
   ]
  },
  {
   "cell_type": "code",
   "execution_count": 24,
   "metadata": {},
   "outputs": [
    {
     "name": "stdout",
     "output_type": "stream",
     "text": [
      "Proportion of 0s in capital-gain: 0.9173 (44778/48813)\n",
      "Proportion of 0s in capital-loss: 0.9533 (46531/48813)\n"
     ]
    }
   ],
   "source": [
    "for col in [\"capital-gain\", \"capital-loss\"]:\n",
    "    zero_count = (X[col] == 0).sum()  # Count number of zeros\n",
    "    total_count = len(X[col])  # Total number of rows\n",
    "    zero_proportion = zero_count / total_count  # Compute proportion\n",
    "\n",
    "    print(f\"Proportion of 0s in {col}: {zero_proportion:.4f} ({zero_count}/{total_count})\")"
   ]
  },
  {
   "cell_type": "markdown",
   "metadata": {},
   "source": [
    "**Approach**:\n",
    "\n",
    "**Step 1** _ Apply $\\log$ transformation (to handle zero values in *capital-gain* and *capital-loss*)\n",
    "\n",
    "**Step 2** _ Bin the features:\n",
    "- Binning *the non-skewed numerical features* into categories by using **equal-frequency binning**\n",
    "- Binning *the skewed numerical features* by using **custom binning** (zero values remain in one bin to avoid overwhelming MI with zero dominance and non-zero values are binned separately) \n",
    "\n",
    "**Step 3** _ Compute the mutual information (MI)"
   ]
  },
  {
   "cell_type": "code",
   "execution_count": 25,
   "metadata": {},
   "outputs": [
    {
     "name": "stdout",
     "output_type": "stream",
     "text": [
      "Mutual Information Scores:\n",
      "       Feature  Mutual Information\n",
      "  relationship            0.165409\n",
      "marital-status            0.156963\n",
      "           age            0.093383\n",
      "     education            0.092127\n",
      "    occupation            0.091894\n",
      " education-num            0.087221\n",
      "hours-per-week            0.055459\n",
      "  capital-gain            0.042762\n",
      "           sex            0.036695\n",
      "     workclass            0.022300\n",
      "  capital-loss            0.011425\n",
      "          race            0.008200\n",
      "native-country            0.008165\n",
      "        fnlwgt            0.000733\n"
     ]
    }
   ],
   "source": [
    "X_encoded = X.copy()\n",
    "\n",
    "categorical_cols = X.select_dtypes(include=['object']).columns\n",
    "numerical_cols = X.select_dtypes(include=['int64', 'float64']).columns.drop(\"income\")\n",
    "\n",
    "for col in categorical_cols:\n",
    "    X_encoded[col] = X_encoded[col].astype('category').cat.codes\n",
    "\n",
    "# Step 1: Apply log transformation to capital-gain and capital-loss\n",
    "X_encoded[\"capital-gain\"] = np.log1p(X_encoded[\"capital-gain\"])\n",
    "X_encoded[\"capital-loss\"] = np.log1p(X_encoded[\"capital-loss\"])\n",
    "\n",
    "# Step 2: Discretize / Binning numerical variables\n",
    "for col in numerical_cols:\n",
    "    if col in [\"capital-gain\", \"capital-loss\"]:\n",
    "        # Compute unique bin edges to avoid duplicates\n",
    "        bin_edges = sorted(set([-1, 0, \n",
    "                                X_encoded[col].quantile(0.25), \n",
    "                                X_encoded[col].quantile(0.5), \n",
    "                                X_encoded[col].quantile(0.75), \n",
    "                                X_encoded[col].max()]))\n",
    "\n",
    "        X_encoded[col] = pd.cut(X_encoded[col], bins=bin_edges, labels=False, duplicates='drop')\n",
    "    else:\n",
    "        X_encoded[col] = pd.qcut(X_encoded[col], q=10, duplicates='drop', labels=False)\n",
    "\n",
    "# Compute Mutual Information\n",
    "def mutual_info(target, features):\n",
    "    mi_scores = {}\n",
    "\n",
    "    for col in features:\n",
    "        joint = pd.crosstab(X_encoded[col], X_encoded[target])\n",
    "        total = joint.values.sum()\n",
    "\n",
    "        prob_x = joint.sum(axis=1).values / total  \n",
    "        prob_y = joint.sum(axis=0).values / total  \n",
    "        prob_xy = joint / total  \n",
    "\n",
    "        mi = np.nansum(prob_xy * np.log2(prob_xy / (prob_x[:, np.newaxis] * prob_y ) + 1e-10))\n",
    "        mi_scores[col] = mi\n",
    "\n",
    "    return mi_scores\n",
    "\n",
    "mi_scores = mutual_info(\"income\", X_encoded.columns.drop(\"income\"))\n",
    "\n",
    "mi_df = pd.DataFrame(list(mi_scores.items()), columns=[\"Feature\", \"Mutual Information\"])\n",
    "mi_df = mi_df.sort_values(by=\"Mutual Information\", ascending=False)\n",
    "\n",
    "print(\"Mutual Information Scores:\")\n",
    "print(mi_df.to_string(index=False))\n"
   ]
  },
  {
   "cell_type": "markdown",
   "metadata": {},
   "source": [
    "From the **Mutual Information (MI) scores**, the most informative features are those with the **highest MI values** as they provide the most information about the target (income) and I can\n",
    "- **Keep features** - *relationship*, *marital-status*, *age*, *education*, *occupation*, *education-num*, *hours-per-week*, *sex*, *workclass*, *capital-gain* and *capital-loss*\n",
    "- **Drop features** - *race*, *native-country* and *fnlwgt* "
   ]
  },
  {
   "cell_type": "code",
   "execution_count": 26,
   "metadata": {},
   "outputs": [],
   "source": [
    "X = X.drop(columns=[\"fnlwgt\", \"race\", \"native-country\"])"
   ]
  },
  {
   "cell_type": "markdown",
   "metadata": {},
   "source": [
    "Question: *Are there any features that are redundant or highly correlated with others? If so, which methods (e.g., correlation thresholding, Variance Inflation Factor) will be used to eliminate these features?* "
   ]
  },
  {
   "cell_type": "markdown",
   "metadata": {},
   "source": [
    "To find out any features that are redundant or highly correlated with other, I use\n",
    "- **Pearson correlation** for numerical features \n",
    "- **Cramer's V** for categorical features \n",
    "\n",
    "$$V = \\sqrt{\\frac{\\frac{\\mathcal{X}^2}{n}}{\\min(k-1, r- 1)}}$$\n",
    "\n",
    "where:\n",
    "- $\\mathcal{X}^2$ is derived from Pearson's chi-squared test\n",
    "- $n$ is the grand total of observations\n",
    "- $k$ being the number of columns (features)\n",
    "- $r$ being the number of rows (records)\n",
    "\n",
    "and the Pearson's chi-squared test is\n",
    "\n",
    "$$\\mathcal{X}^2 = \\sum \\frac{(O - E)^2}{E}$$\n",
    "\n",
    "where \n",
    "\n",
    "- $\\mathcal{X}^2$ is derived from Pearson's chi-squared test\n",
    "- $O$ is the observed frequency\n",
    "- $E$ is the expected frequency"
   ]
  },
  {
   "cell_type": "code",
   "execution_count": 27,
   "metadata": {},
   "outputs": [
    {
     "name": "stdout",
     "output_type": "stream",
     "text": [
      "Full Correlation Matrix (Numerical: Pearson, Categorical: Cramér's V):\n",
      "                     age  workclass  education  education-num  marital-status  \\\n",
      "age             1.000000   0.052968  -0.015176       0.030760       -0.263866   \n",
      "workclass       0.052968   1.000000   0.100016      -0.045938        0.085458   \n",
      "education      -0.015176   0.100016   1.000000       0.359652        0.090958   \n",
      "education-num   0.030760  -0.045938   0.359652       1.000000       -0.069911   \n",
      "marital-status -0.263866   0.085458   0.090958      -0.069911        1.000000   \n",
      "occupation      0.006754   0.400082   0.186593       0.045096        0.131642   \n",
      "relationship   -0.263416   0.100813   0.122585      -0.090672        0.488163   \n",
      "sex             0.088073   0.151771   0.093309       0.009284        0.459477   \n",
      "capital-gain    0.077221   0.012044   0.028944       0.125186       -0.043954   \n",
      "capital-loss    0.056908  -0.004671   0.017654       0.080969       -0.033840   \n",
      "hours-per-week  0.071322  -0.078086   0.057874       0.143872       -0.185477   \n",
      "income          0.230335  -0.054720   0.080087       0.332746       -0.199009   \n",
      "\n",
      "                occupation  relationship       sex  capital-gain  \\\n",
      "age               0.006754     -0.263416  0.088073      0.077221   \n",
      "workclass         0.400082      0.100813  0.151771      0.012044   \n",
      "education         0.186593      0.122585  0.093309      0.028944   \n",
      "education-num     0.045096     -0.090672  0.009284      0.125186   \n",
      "marital-status    0.131642      0.488163  0.459477     -0.043954   \n",
      "occupation        1.000000      0.178251  0.424054      0.008135   \n",
      "relationship      0.178251      1.000000  0.646642     -0.056532   \n",
      "sex               0.424054      0.646642  1.000000      0.047106   \n",
      "capital-gain      0.008135     -0.056532  0.047106      1.000000   \n",
      "capital-loss      0.006811     -0.057229  0.045491     -0.031460   \n",
      "hours-per-week   -0.060505     -0.250310  0.228544      0.082154   \n",
      "income            0.007161     -0.253252  0.214649      0.223014   \n",
      "\n",
      "                capital-loss  hours-per-week    income  \n",
      "age                 0.056908        0.071322  0.230335  \n",
      "workclass          -0.004671       -0.078086 -0.054720  \n",
      "education           0.017654        0.057874  0.080087  \n",
      "education-num       0.080969        0.143872  0.332746  \n",
      "marital-status     -0.033840       -0.185477 -0.199009  \n",
      "occupation          0.006811       -0.060505  0.007161  \n",
      "relationship       -0.057229       -0.250310 -0.253252  \n",
      "sex                 0.045491        0.228544  0.214649  \n",
      "capital-gain       -0.031460        0.082154  0.223014  \n",
      "capital-loss        1.000000        0.054440  0.147527  \n",
      "hours-per-week      0.054440        1.000000  0.227649  \n",
      "income              0.147527        0.227649  1.000000  \n"
     ]
    }
   ],
   "source": [
    "categorical_cols = X.select_dtypes(include=['object']).columns\n",
    "numerical_cols = X.select_dtypes(include=['int64', 'float64']).columns\n",
    "\n",
    "X_encoded = X.copy()\n",
    "for col in categorical_cols:\n",
    "    X_encoded[col] = X_encoded[col].astype('category').cat.codes\n",
    "\n",
    "# Function to compute Cramér's V manually (for categorical features)\n",
    "def cramers_v(x, y):\n",
    "    confusion_matrix = pd.crosstab(x, y).values \n",
    "    chi2 = np.sum((confusion_matrix - confusion_matrix.sum(axis=1, keepdims=True) * \n",
    "                   confusion_matrix.sum(axis=0, keepdims=True) / confusion_matrix.sum())**2 /\n",
    "                   (confusion_matrix.sum(axis=1, keepdims=True) * confusion_matrix.sum(axis=0, keepdims=True) / confusion_matrix.sum()))\n",
    "    n = confusion_matrix.sum()\n",
    "    phi2 = chi2 / n\n",
    "    r, k = confusion_matrix.shape\n",
    "    return np.sqrt(phi2 / min(r - 1, k - 1)) if min(r - 1, k - 1) > 0 else 0  \n",
    "\n",
    "# Compute Pearson correlation for numerical features\n",
    "numerical_corr = X_encoded[numerical_cols].corr()\n",
    "\n",
    "# Compute Cramér’s V for categorical features\n",
    "cramers_v_matrix = pd.DataFrame(index=categorical_cols, columns=categorical_cols)\n",
    "\n",
    "for col1 in categorical_cols:\n",
    "    for col2 in categorical_cols:\n",
    "        if col1 == col2:\n",
    "            cramers_v_matrix.loc[col1, col2] = 1.0 \n",
    "        else:\n",
    "            cramers_v_matrix.loc[col1, col2] = cramers_v(X_encoded[col1], X_encoded[col2])\n",
    "\n",
    "# Convert to numeric type\n",
    "cramers_v_matrix = cramers_v_matrix.astype(float)\n",
    "\n",
    "\n",
    "full_corr_matrix = pd.DataFrame(index=X_encoded.columns, columns=X_encoded.columns, dtype=float)\n",
    "\n",
    "# Fill numerical correlation values\n",
    "for col1 in numerical_cols:\n",
    "    for col2 in numerical_cols:\n",
    "        full_corr_matrix.loc[col1, col2] = numerical_corr.loc[col1, col2]\n",
    "\n",
    "# Fill Cramér's V values for categorical features\n",
    "for col1 in categorical_cols:\n",
    "    for col2 in categorical_cols:\n",
    "        full_corr_matrix.loc[col1, col2] = cramers_v_matrix.loc[col1, col2]\n",
    "\n",
    "# Fill correlations between categorical & numerical using Pearson (since numeric encoding is used)\n",
    "for col1 in categorical_cols:\n",
    "    for col2 in numerical_cols:\n",
    "        full_corr_matrix.loc[col1, col2] = X_encoded[col1].corr(X_encoded[col2])\n",
    "        full_corr_matrix.loc[col2, col1] = full_corr_matrix.loc[col1, col2] \n",
    "\n",
    "print(\"Full Correlation Matrix (Numerical: Pearson, Categorical: Cramér's V):\")\n",
    "print(full_corr_matrix)"
   ]
  },
  {
   "cell_type": "code",
   "execution_count": 28,
   "metadata": {},
   "outputs": [
    {
     "data": {
      "image/png": "[encoded data removed]",
      "text/plain": [
       "<Figure size 1200x1000 with 2 Axes>"
      ]
     },
     "metadata": {},
     "output_type": "display_data"
    }
   ],
   "source": [
    "plt.figure(figsize=(12, 10))\n",
    "sns.heatmap(full_corr_matrix, annot=True, fmt=\".2f\", cmap=\"coolwarm\", linewidths=0.5)\n",
    "plt.title(\"Correlation Matrix (Numerical: Pearson, Categorical: Cramér's V)\")\n",
    "plt.xticks(rotation=45, ha=\"right\")\n",
    "plt.yticks(rotation=0)\n",
    "plt.show()"
   ]
  },
  {
   "cell_type": "markdown",
   "metadata": {},
   "source": [
    "From the result of **Pearson correlation** and **Cramer's V**, the redundant or highly correlated features are those with the **highest correlated values** and I can find out these redundant features:\n",
    "- *workclass* and *occupation* (0.400082)\n",
    "- *education* and *education-num* (0.359652)\n",
    "- *marital-status* with *relationship* and *sex* (0.488163 and 0.459477)  \n",
    "- *sex* and *relationship* (0.646642)\n",
    "- *sex* and *occupation*  (0.424054)\n",
    "\n",
    "\n",
    "**Drop redundant features** - *workclass*, *education*, *sex* and *relationship* "
   ]
  },
  {
   "cell_type": "code",
   "execution_count": 29,
   "metadata": {},
   "outputs": [],
   "source": [
    "X = X.drop(columns=[\"workclass\", \"education\", \"sex\", \"relationship\"])"
   ]
  },
  {
   "cell_type": "markdown",
   "metadata": {},
   "source": [
    "Question: *How many features should be retained to ensure minimal information loss?*"
   ]
  },
  {
   "cell_type": "markdown",
   "metadata": {},
   "source": [
    "After using Mutual Information (MI) to find out the most informative features and using Pearson's correlation and Cramer's V to determine the redundant features, I can conclude that there are 6-8 features should be retained to ensure minimal information loss"
   ]
  },
  {
   "cell_type": "markdown",
   "metadata": {},
   "source": [
    "# **Data Normalization**\n",
    "\n",
    "Data normalization is a critical step in data preprocessing, where the values of features are scaled to a common range. This ensures that no single feature disproportionately influences the analysis.\n",
    "\n",
    "To perform data normalization, let’s address the following questions:"
   ]
  },
  {
   "cell_type": "markdown",
   "metadata": {},
   "source": [
    "## **Need for Normalization**\n",
    "\n",
    "### Question: *Does the data contain features with different scales?*"
   ]
  },
  {
   "cell_type": "code",
   "execution_count": 30,
   "metadata": {},
   "outputs": [
    {
     "data": {
      "text/plain": [
       "Index(['age', 'education-num', 'marital-status', 'occupation', 'capital-gain',\n",
       "       'capital-loss', 'hours-per-week', 'income'],\n",
       "      dtype='object')"
      ]
     },
     "execution_count": 30,
     "metadata": {},
     "output_type": "execute_result"
    }
   ],
   "source": [
    "X.columns"
   ]
  },
  {
   "cell_type": "code",
   "execution_count": 31,
   "metadata": {},
   "outputs": [
    {
     "data": {
      "image/png": "[encoded data removed]",
      "text/plain": [
       "<Figure size 1200x800 with 6 Axes>"
      ]
     },
     "metadata": {},
     "output_type": "display_data"
    }
   ],
   "source": [
    "X_copy = X.copy()\n",
    "\n",
    "numerical_cols = X_copy.select_dtypes(include=['int64', 'float64']).columns.drop(\"income\")\n",
    "\n",
    "X_copy[numerical_cols].hist(figsize=(12, 8), bins=30, edgecolor='black')\n",
    "plt.suptitle(\"Feature Distribution (Histograms)\")\n",
    "plt.show()\n"
   ]
  },
  {
   "cell_type": "markdown",
   "metadata": {},
   "source": [
    "When plotting out the numerical features, I can see that different scale between *age* and *capital-gain* or *capital-loss* or *hours-per-week* and *education-num*."
   ]
  },
  {
   "cell_type": "markdown",
   "metadata": {},
   "source": [
    "## **Normalization Techniques**\n",
    "\n",
    "### Question: *Which normalization techniques should be applied? Why?*\n",
    "\n",
    "***Min-Max Scaling*** is a normalization technique used to transform feature values into a specific range (sometimes [0, 1] or [-1, 1])\n",
    "\n",
    "$$X_{scaled} = \\frac{X - X_{min}}{X_{max} - X_{min}} \\times (X_{max\\_new} - X_{min\\_new} ) + X_{min\\_new} $$\n",
    "\n",
    "where\n",
    "\n",
    "- $X$ - original feature value\n",
    "- $X_{min}$ - min value of the feature in the dataset\n",
    "- $X_{max}$ - max value of the feature in the dataset\n",
    "- $X_{min\\_new}$ and $X_{max\\_new}$ - desired new range [0, 1] or [-1, 1]\n",
    "\n",
    "The ***Min-Max Scaling*** is *USEFUL* because:\n",
    "\n",
    "- It preserves the relative relationships between values while bounding them\n",
    "- It is ideal for features with **known**, **bounded ranges**\n",
    "\n",
    "The ***Min-Max Scaling*** *FAILS* when:\n",
    "- If a feature contains outliers (extremely large/small values), the entire range gets stretched, and most values get compressed into a tiny part of the range\n",
    "- Want to change the shape of the distribution (normal distribution)\n",
    "\n",
    "$\\Rightarrow$ **Features** - *age*"
   ]
  },
  {
   "cell_type": "code",
   "execution_count": 32,
   "metadata": {},
   "outputs": [],
   "source": [
    "def min_max_scaling(column, new_min=0, new_max=1):\n",
    "    X_min = column.min()\n",
    "    X_max = column.max()\n",
    "    return (column - X_min) / (X_max - X_min) * (new_max - new_min) + new_min\n",
    "\n",
    "X_copy[\"age\"] = min_max_scaling(X_copy[\"age\"])"
   ]
  },
  {
   "cell_type": "markdown",
   "metadata": {},
   "source": [
    "***Decimal Scaling***  is a normalization technique used to scale feature values by dividing them by a power of 10, ensuring they fall within a smaller range (sometimes [−1,1])\n",
    "\n",
    "$$X_{scaled} = \\frac{X}{10^j} \\text{ where } j = \\lceil \\log_{10}(\\max |X|) \\rceil$$ \n",
    "\n",
    "where\n",
    "\n",
    "- $X$ - original feature value\n",
    "- $j$ - the smallest integer such that all scaled values fall within [-1, 1]\n",
    "- $j$ = $\\lceil \\log_{10}(\\max |X|)\\rceil$ which is chosen based on the largest absolute value in the feature\n",
    " \n",
    "The ***Decimal Scaling*** is *USEFUL* because:\n",
    "- It can handle very large numbers. If a feature has values in the thousands or millions, it can compresses the into a manageable range\n",
    "- Preserves relative importance when it does not distort the relative differences between values\n",
    "- Since it only depends on the logarithm of the max absolute value, the outliers do not drastically affect the transformation\n",
    "\n",
    "The ***Decimal Scaling*** *FAILS* when:\n",
    "- If the data is highly skewed, it does not make it normally distributed\n",
    "\n",
    "$\\Rightarrow$ **Features** - *capital-gain* and *capital-loss*"
   ]
  },
  {
   "cell_type": "code",
   "execution_count": 33,
   "metadata": {},
   "outputs": [],
   "source": [
    "def decimal_scaling(column):\n",
    "    j = np.ceil(np.log10(column.abs().max()))  # Compute scaling factor\n",
    "    return column / (10 ** j)\n",
    "\n",
    "X_copy[\"capital-gain\"] = decimal_scaling(X_copy[\"capital-gain\"])\n",
    "X_copy[\"capital-loss\"] = decimal_scaling(X_copy[\"capital-loss\"])"
   ]
  },
  {
   "cell_type": "markdown",
   "metadata": {},
   "source": [
    "***Z-score Standardization*** is a normalization technique that transforms data to have mean $\\mu$ 0 and a standard deviation $\\sigma$ of one\n",
    "\n",
    "$$X_{normalized} = \\frac{X - \\mu}{\\sigma}$$\n",
    "\n",
    "where\n",
    "- $X$ - original feature value\n",
    "- $\\mu$ - mean of the feature\n",
    "- $\\sigma$ - standard deviation of the feature\n",
    "\n",
    "\n",
    "The ***Z-Score Standardization*** is *USEFUL* because:\n",
    "- It ensures features have a common scale. For example, if features have different units ('years' vs 'hours'), standardization makes them comparable\n",
    "- If the feature follows a Gaussian (normal) distribution, it ensures well-scaled dataset\n",
    "- Compared to ***Min-Max Scaling***, outliers do not squash the range of normal values as much. But, extreme outliers can still affect the mean and standard deviation slightly distorting the transformation\n",
    "\n",
    "\n",
    "The ***Z-Score Standardization*** *FAILS* when:\n",
    "- The feature has a highly skewed distribution such as exponential or heavy-tailed distribution\n",
    "- It does not ensure a fixed range as ***Min-Max Scaling***\n",
    "\n",
    "$\\Rightarrow$ **Features** - *education-num* and *hours-per-week*"
   ]
  },
  {
   "cell_type": "code",
   "execution_count": 34,
   "metadata": {},
   "outputs": [],
   "source": [
    "def z_score_standardization(column):\n",
    "    return (column - column.mean()) / column.std()\n",
    "\n",
    "X_copy[\"education-num\"] = z_score_standardization(X_copy[\"education-num\"])\n",
    "X_copy[\"hours-per-week\"] = z_score_standardization(X_copy[\"hours-per-week\"])"
   ]
  },
  {
   "cell_type": "code",
   "execution_count": 35,
   "metadata": {},
   "outputs": [
    {
     "data": {
      "image/png": "[encoded data removed]",
      "text/plain": [
       "<Figure size 1200x800 with 6 Axes>"
      ]
     },
     "metadata": {},
     "output_type": "display_data"
    }
   ],
   "source": [
    "numerical_cols = X_copy.select_dtypes(include=['int64', 'float64']).columns.drop(\"income\")\n",
    "\n",
    "X_copy[numerical_cols].hist(figsize=(12, 8), bins=30, edgecolor='black')\n",
    "plt.suptitle(\"Feature Distribution (Histograms) after Scaling\")\n",
    "plt.show()\n"
   ]
  },
  {
   "cell_type": "markdown",
   "metadata": {},
   "source": [
    "### Question: *Are there any other normalization methods (e.g., Robust Scaling) that can handle outliers effectively?*\n",
    "\n",
    "***Robust Scaling*** is a normalization technique that transforms data based on median and Interquartile Range (IQR) instead of the mean and standard deviation\n",
    "\n",
    "$$X_{scaled} = \\frac{X - median(X)}{IQR(X)}$$\n",
    "\n",
    "where\n",
    "- $X$ - original feature value\n",
    "- $median(X)$ - median of the feature (50th percentile)\n",
    "- $IQR(X)$ - interquartile Range (IQR) = $Q_3 - Q_1$\n",
    "\n",
    "The ***Robust Scaling*** is *USEFUL* because:\n",
    "- It ignores outliers beyond the IQR\n",
    "- Most values will be centered around 0 because it subtracts the median\n",
    "- The IQR denominator ensures that outlier values do not dominate the scaling process\n",
    "- Works well even if the feature is not normally distributed such as exponential or heavily skewed distributions\n",
    "\n",
    "The ***Robust Scaling*** *FAILS* when:\n",
    "-  Data has no outliers [*The Z-score normalization may work better because it considers the entire distribution*]\n",
    "- It does not bound data to a fixed range so some values may still be relatively large or small\n",
    "\n",
    "***Log Transformation*** is a technique that reduces skewness and compresses outliers by applying a logarithmic function to the data\n",
    "\n",
    "$$X_{scaled} = \\log(X + c)$$\n",
    "\n",
    "where\n",
    "- $X$ - original feature value\n",
    "- $c$ - a small constant added to avoid issues with $\\log(0)$\n",
    "\n",
    "The ***Log Transformation*** is *USEFUL* because:\n",
    "- It helps reducing right-skewed distribution and compress outliers\n",
    "\n",
    "The ***Log Transformation*** *FAILS* when:\n",
    "- Dataset contains zero, negative values or is already normally distribute"
   ]
  },
  {
   "cell_type": "markdown",
   "metadata": {},
   "source": [
    "# **Data Discretization**\n",
    "\n",
    "Data discretization is a preprocessing technique that **transforms continuous data into intervals**.\n",
    "This step is useful for simplifying data patterns and is often used in machine learning algorithms\n",
    "that work better with categorical data.\n",
    "\n",
    "To perform data discretization, let’s address the following questions:"
   ]
  },
  {
   "cell_type": "markdown",
   "metadata": {},
   "source": [
    "## **Discretization Techniques**\n",
    "\n",
    "### Question: *Which techniques should be applied for discretization?*\n",
    "\n",
    "- Binning: Equal-width (distance) partitioning, Equal-depth (frequency) partitioning\n",
    "- Histogram analysis\n",
    "- Are there any other methods?"
   ]
  },
  {
   "cell_type": "markdown",
   "metadata": {},
   "source": [
    "***Equal-width (distance) partitioning*** divides the range of a feature into n *equal-sized* intervals or *fixed-width* bins without considering the target variable\n",
    "\n",
    "$$Bin Width = \\frac{\\max(X) - \\min(X)}{n}$$\n",
    "\n",
    "***Equal-depth (frequency) partitioning*** divides the data into $n$ bins and ensure that each bin contains approximately the same number of samples. Doing this method by sorting the data in ascending order and then divide it into $n$ equal-sized groups\n",
    "\n",
    "***Histogram analysis*** identifies natural groupings in the data instead of using fixed bin sizes by construct a histogram of the feature values and then identify peaks and valleys to define bin boundaries dynamically"
   ]
  },
  {
   "cell_type": "markdown",
   "metadata": {},
   "source": [
    "### Question: *Are there any other methods?*\n",
    "- Clustering \n",
    "- Entropy-based\n",
    "\n",
    "***Clustering*** such as K-Means can be used to define bins dynamically by apply K-Means clustering to the feature and then assign cluster labels as discrete categories\n",
    "\n",
    "***Entropy-based*** uses information gain to determine the best binning strategy by minimizing entropy by compute entropy for different binning scheme and then select the scheme that minimizes information loss"
   ]
  },
  {
   "cell_type": "markdown",
   "metadata": {},
   "source": [
    "**Conclusion**: As I have used earlier in Feature Section, I believe the most suitable discretization technique for this dataset is Equal-depth (frequency) partitioning"
   ]
  },
  {
   "cell_type": "code",
   "execution_count": 36,
   "metadata": {},
   "outputs": [
    {
     "data": {
      "text/html": [
       "<div>\n",
       "<style scoped>\n",
       "    .dataframe tbody tr th:only-of-type {\n",
       "        vertical-align: middle;\n",
       "    }\n",
       "\n",
       "    .dataframe tbody tr th {\n",
       "        vertical-align: top;\n",
       "    }\n",
       "\n",
       "    .dataframe thead th {\n",
       "        text-align: right;\n",
       "    }\n",
       "</style>\n",
       "<table border=\"1\" class=\"dataframe\">\n",
       "  <thead>\n",
       "    <tr style=\"text-align: right;\">\n",
       "      <th></th>\n",
       "      <th>age</th>\n",
       "      <th>education-num</th>\n",
       "      <th>marital-status</th>\n",
       "      <th>occupation</th>\n",
       "      <th>capital-gain</th>\n",
       "      <th>capital-loss</th>\n",
       "      <th>hours-per-week</th>\n",
       "      <th>income</th>\n",
       "    </tr>\n",
       "  </thead>\n",
       "  <tbody>\n",
       "    <tr>\n",
       "      <th>0</th>\n",
       "      <td>39</td>\n",
       "      <td>13</td>\n",
       "      <td>never-married</td>\n",
       "      <td>adm-clerical</td>\n",
       "      <td>2174</td>\n",
       "      <td>0</td>\n",
       "      <td>40</td>\n",
       "      <td>0</td>\n",
       "    </tr>\n",
       "    <tr>\n",
       "      <th>1</th>\n",
       "      <td>50</td>\n",
       "      <td>13</td>\n",
       "      <td>married-civ-spouse</td>\n",
       "      <td>exec-managerial</td>\n",
       "      <td>0</td>\n",
       "      <td>0</td>\n",
       "      <td>13</td>\n",
       "      <td>0</td>\n",
       "    </tr>\n",
       "    <tr>\n",
       "      <th>2</th>\n",
       "      <td>38</td>\n",
       "      <td>9</td>\n",
       "      <td>divorced</td>\n",
       "      <td>handlers-cleaners</td>\n",
       "      <td>0</td>\n",
       "      <td>0</td>\n",
       "      <td>40</td>\n",
       "      <td>0</td>\n",
       "    </tr>\n",
       "    <tr>\n",
       "      <th>3</th>\n",
       "      <td>53</td>\n",
       "      <td>7</td>\n",
       "      <td>married-civ-spouse</td>\n",
       "      <td>handlers-cleaners</td>\n",
       "      <td>0</td>\n",
       "      <td>0</td>\n",
       "      <td>40</td>\n",
       "      <td>0</td>\n",
       "    </tr>\n",
       "    <tr>\n",
       "      <th>4</th>\n",
       "      <td>28</td>\n",
       "      <td>13</td>\n",
       "      <td>married-civ-spouse</td>\n",
       "      <td>prof-specialty</td>\n",
       "      <td>0</td>\n",
       "      <td>0</td>\n",
       "      <td>40</td>\n",
       "      <td>0</td>\n",
       "    </tr>\n",
       "    <tr>\n",
       "      <th>...</th>\n",
       "      <td>...</td>\n",
       "      <td>...</td>\n",
       "      <td>...</td>\n",
       "      <td>...</td>\n",
       "      <td>...</td>\n",
       "      <td>...</td>\n",
       "      <td>...</td>\n",
       "      <td>...</td>\n",
       "    </tr>\n",
       "    <tr>\n",
       "      <th>48837</th>\n",
       "      <td>39</td>\n",
       "      <td>13</td>\n",
       "      <td>divorced</td>\n",
       "      <td>prof-specialty</td>\n",
       "      <td>0</td>\n",
       "      <td>0</td>\n",
       "      <td>36</td>\n",
       "      <td>0</td>\n",
       "    </tr>\n",
       "    <tr>\n",
       "      <th>48838</th>\n",
       "      <td>64</td>\n",
       "      <td>9</td>\n",
       "      <td>widowed</td>\n",
       "      <td>unknown</td>\n",
       "      <td>0</td>\n",
       "      <td>0</td>\n",
       "      <td>40</td>\n",
       "      <td>0</td>\n",
       "    </tr>\n",
       "    <tr>\n",
       "      <th>48839</th>\n",
       "      <td>38</td>\n",
       "      <td>13</td>\n",
       "      <td>married-civ-spouse</td>\n",
       "      <td>prof-specialty</td>\n",
       "      <td>0</td>\n",
       "      <td>0</td>\n",
       "      <td>50</td>\n",
       "      <td>0</td>\n",
       "    </tr>\n",
       "    <tr>\n",
       "      <th>48840</th>\n",
       "      <td>44</td>\n",
       "      <td>13</td>\n",
       "      <td>divorced</td>\n",
       "      <td>adm-clerical</td>\n",
       "      <td>5455</td>\n",
       "      <td>0</td>\n",
       "      <td>40</td>\n",
       "      <td>0</td>\n",
       "    </tr>\n",
       "    <tr>\n",
       "      <th>48841</th>\n",
       "      <td>35</td>\n",
       "      <td>13</td>\n",
       "      <td>married-civ-spouse</td>\n",
       "      <td>exec-managerial</td>\n",
       "      <td>0</td>\n",
       "      <td>0</td>\n",
       "      <td>60</td>\n",
       "      <td>1</td>\n",
       "    </tr>\n",
       "  </tbody>\n",
       "</table>\n",
       "<p>48813 rows × 8 columns</p>\n",
       "</div>"
      ],
      "text/plain": [
       "       age  education-num      marital-status         occupation  \\\n",
       "0       39             13       never-married       adm-clerical   \n",
       "1       50             13  married-civ-spouse    exec-managerial   \n",
       "2       38              9            divorced  handlers-cleaners   \n",
       "3       53              7  married-civ-spouse  handlers-cleaners   \n",
       "4       28             13  married-civ-spouse     prof-specialty   \n",
       "...    ...            ...                 ...                ...   \n",
       "48837   39             13            divorced     prof-specialty   \n",
       "48838   64              9             widowed            unknown   \n",
       "48839   38             13  married-civ-spouse     prof-specialty   \n",
       "48840   44             13            divorced       adm-clerical   \n",
       "48841   35             13  married-civ-spouse    exec-managerial   \n",
       "\n",
       "       capital-gain  capital-loss  hours-per-week  income  \n",
       "0              2174             0              40       0  \n",
       "1                 0             0              13       0  \n",
       "2                 0             0              40       0  \n",
       "3                 0             0              40       0  \n",
       "4                 0             0              40       0  \n",
       "...             ...           ...             ...     ...  \n",
       "48837             0             0              36       0  \n",
       "48838             0             0              40       0  \n",
       "48839             0             0              50       0  \n",
       "48840          5455             0              40       0  \n",
       "48841             0             0              60       1  \n",
       "\n",
       "[48813 rows x 8 columns]"
      ]
     },
     "execution_count": 36,
     "metadata": {},
     "output_type": "execute_result"
    }
   ],
   "source": [
    "X"
   ]
  },
  {
   "cell_type": "markdown",
   "metadata": {},
   "source": [
    "# **Reference**"
   ]
  },
  {
   "cell_type": "markdown",
   "metadata": {},
   "source": [
    "- [Feature selection using a mutual information based measure](https://www.researchgate.net/publication/3974108_Feature_selection_using_a_mutual_information_based_measure)\n",
    "- [Mutual Information](https://en.wikipedia.org/wiki/Mutual_information) "
   ]
  }
 ],
 "metadata": {
  "kernelspec": {
   "display_name": "Python 3",
   "language": "python",
   "name": "python3"
  },
  "language_info": {
   "codemirror_mode": {
    "name": "ipython",
    "version": 3
   },
   "file_extension": ".py",
   "mimetype": "text/x-python",
   "name": "python",
   "nbconvert_exporter": "python",
   "pygments_lexer": "ipython3",
   "version": "3.12.8"
  }
 },
 "nbformat": 4,
 "nbformat_minor": 2
}
